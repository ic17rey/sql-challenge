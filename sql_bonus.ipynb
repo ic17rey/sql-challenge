{
 "cells": [
  {
   "cell_type": "code",
   "execution_count": 1,
   "metadata": {},
   "outputs": [],
   "source": [
    "# Setup dependencies Pandas, Matplotlib for charting and SQLAlchemy\n",
    "import os\n",
    "\n",
    "#import psycopg2\n",
    "import pandas as pd\n",
    "# matplotlib\n",
    "from sqlalchemy import create_engine\n",
    "\n",
    "from config import username_password\n",
    "# Path to sqlite\n",
    "#database_path = os.path.join(\"..\", \"EmployeeSQL\", \"Employee_Data.sqlite\")\n",
    "# database_path = \"../Resources/Census_Data.sqlite\""
   ]
  },
  {
   "cell_type": "code",
   "execution_count": 2,
   "metadata": {},
   "outputs": [],
   "source": [
    "# Create an engine that can talk to the database\n",
    "# engine = create_engine(f'postgresql+psycopg2://{username_password}@localhost:5432/employees_db_sql_challenge')\n",
    "engine = create_engine(f'postgresql://{username_password}@localhost:5432/employees_db_sql_challenge')\n",
    "\n",
    "#(f\"sqlite:///{database_path}\")\n",
    "connection = engine.connect()"
   ]
  },
  {
   "cell_type": "code",
   "execution_count": 3,
   "metadata": {},
   "outputs": [],
   "source": [
    "# Examine the tables\n",
    "# Figure out how to pull in the salary table\n",
    "\n",
    "# Query All Records in the the Database\n",
    "# data = engine.execute(\"SELECT * FROM Census_Data\")\n",
    "# for record in data:\n",
    "  #  print(record)\n",
    "\n",
    "#Instead like:\n",
    "# data = pd.read.sql('SELECT * FROM ///employees_db_sql_challenge salary table///, connection)\n",
    "# Then Preview like\n",
    "# data.head()\n"
   ]
  },
  {
   "cell_type": "code",
   "execution_count": null,
   "metadata": {},
   "outputs": [],
   "source": []
  }
 ],
 "metadata": {
  "kernelspec": {
   "display_name": "PythonData",
   "language": "python",
   "name": "pythondata"
  },
  "language_info": {
   "codemirror_mode": {
    "name": "ipython",
    "version": 3
   },
   "file_extension": ".py",
   "mimetype": "text/x-python",
   "name": "python",
   "nbconvert_exporter": "python",
   "pygments_lexer": "ipython3",
   "version": "3.6.10"
  }
 },
 "nbformat": 4,
 "nbformat_minor": 4
}
